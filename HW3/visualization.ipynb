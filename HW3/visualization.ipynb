{
 "cells": [
  {
   "cell_type": "code",
   "execution_count": 1,
   "metadata": {},
   "outputs": [
    {
     "data": {
      "application/javascript": [
       "\n",
       "            setTimeout(function() {\n",
       "                var nbb_cell_id = 1;\n",
       "                var nbb_unformatted_code = \"%load_ext nb_black\\n%load_ext autoreload\\n%autoreload 2\";\n",
       "                var nbb_formatted_code = \"%load_ext nb_black\\n%load_ext autoreload\\n%autoreload 2\";\n",
       "                var nbb_cells = Jupyter.notebook.get_cells();\n",
       "                for (var i = 0; i < nbb_cells.length; ++i) {\n",
       "                    if (nbb_cells[i].input_prompt_number == nbb_cell_id) {\n",
       "                        if (nbb_cells[i].get_text() == nbb_unformatted_code) {\n",
       "                             nbb_cells[i].set_text(nbb_formatted_code);\n",
       "                        }\n",
       "                        break;\n",
       "                    }\n",
       "                }\n",
       "            }, 500);\n",
       "            "
      ],
      "text/plain": [
       "<IPython.core.display.Javascript object>"
      ]
     },
     "metadata": {},
     "output_type": "display_data"
    }
   ],
   "source": [
    "%load_ext nb_black\n",
    "%load_ext autoreload\n",
    "%autoreload 2"
   ]
  },
  {
   "cell_type": "code",
   "execution_count": 2,
   "metadata": {},
   "outputs": [
    {
     "data": {
      "application/javascript": [
       "\n",
       "            setTimeout(function() {\n",
       "                var nbb_cell_id = 2;\n",
       "                var nbb_unformatted_code = \"import pandas as pd\\nimport numpy as np\\nimport matplotlib.pyplot as plt\\n\\nplt.style.use(\\\"ggplot\\\")\\n\\nfrom gibbs import GibbsSampling\\nfrom meanfield import MeanField\\nfrom utils import load_data, truncated_gaussian\";\n",
       "                var nbb_formatted_code = \"import pandas as pd\\nimport numpy as np\\nimport matplotlib.pyplot as plt\\n\\nplt.style.use(\\\"ggplot\\\")\\n\\nfrom gibbs import GibbsSampling\\nfrom meanfield import MeanField\\nfrom utils import load_data, truncated_gaussian\";\n",
       "                var nbb_cells = Jupyter.notebook.get_cells();\n",
       "                for (var i = 0; i < nbb_cells.length; ++i) {\n",
       "                    if (nbb_cells[i].input_prompt_number == nbb_cell_id) {\n",
       "                        if (nbb_cells[i].get_text() == nbb_unformatted_code) {\n",
       "                             nbb_cells[i].set_text(nbb_formatted_code);\n",
       "                        }\n",
       "                        break;\n",
       "                    }\n",
       "                }\n",
       "            }, 500);\n",
       "            "
      ],
      "text/plain": [
       "<IPython.core.display.Javascript object>"
      ]
     },
     "metadata": {},
     "output_type": "display_data"
    }
   ],
   "source": [
    "import pandas as pd\n",
    "import numpy as np\n",
    "import matplotlib.pyplot as plt\n",
    "\n",
    "plt.style.use(\"ggplot\")\n",
    "\n",
    "from gibbs import GibbsSampling\n",
    "from meanfield import MeanField\n",
    "from utils import load_data, truncated_gaussian"
   ]
  },
  {
   "cell_type": "markdown",
   "metadata": {},
   "source": [
    "## Gibbs Sampling"
   ]
  },
  {
   "cell_type": "code",
   "execution_count": 15,
   "metadata": {},
   "outputs": [
    {
     "data": {
      "application/javascript": [
       "\n",
       "            setTimeout(function() {\n",
       "                var nbb_cell_id = 15;\n",
       "                var nbb_unformatted_code = \"# Load data\\nX, y = load_data()\\n\\n# Parameters\\ntau = 100.0\";\n",
       "                var nbb_formatted_code = \"# Load data\\nX, y = load_data()\\n\\n# Parameters\\ntau = 100.0\";\n",
       "                var nbb_cells = Jupyter.notebook.get_cells();\n",
       "                for (var i = 0; i < nbb_cells.length; ++i) {\n",
       "                    if (nbb_cells[i].input_prompt_number == nbb_cell_id) {\n",
       "                        if (nbb_cells[i].get_text() == nbb_unformatted_code) {\n",
       "                             nbb_cells[i].set_text(nbb_formatted_code);\n",
       "                        }\n",
       "                        break;\n",
       "                    }\n",
       "                }\n",
       "            }, 500);\n",
       "            "
      ],
      "text/plain": [
       "<IPython.core.display.Javascript object>"
      ]
     },
     "metadata": {},
     "output_type": "display_data"
    }
   ],
   "source": [
    "# Load data\n",
    "X, y = load_data()\n",
    "\n",
    "# Parameters\n",
    "tau = 100.0"
   ]
  },
  {
   "cell_type": "code",
   "execution_count": 16,
   "metadata": {},
   "outputs": [
    {
     "name": "stdout",
     "output_type": "stream",
     "text": [
      "CPU times: user 31.2 s, sys: 21.5 s, total: 52.7 s\n",
      "Wall time: 8 s\n"
     ]
    },
    {
     "data": {
      "application/javascript": [
       "\n",
       "            setTimeout(function() {\n",
       "                var nbb_cell_id = 16;\n",
       "                var nbb_unformatted_code = \"%%time\\nsampler = GibbsSampling(X, y, tau)\\nbetas, zs = sampler.sample(10000)\";\n",
       "                var nbb_formatted_code = \"%%time\\nsampler = GibbsSampling(X, y, tau)\\nbetas, zs = sampler.sample(10000)\";\n",
       "                var nbb_cells = Jupyter.notebook.get_cells();\n",
       "                for (var i = 0; i < nbb_cells.length; ++i) {\n",
       "                    if (nbb_cells[i].input_prompt_number == nbb_cell_id) {\n",
       "                        if (nbb_cells[i].get_text() == nbb_unformatted_code) {\n",
       "                             nbb_cells[i].set_text(nbb_formatted_code);\n",
       "                        }\n",
       "                        break;\n",
       "                    }\n",
       "                }\n",
       "            }, 500);\n",
       "            "
      ],
      "text/plain": [
       "<IPython.core.display.Javascript object>"
      ]
     },
     "metadata": {},
     "output_type": "display_data"
    }
   ],
   "source": [
    "%%time\n",
    "sampler = GibbsSampling(X, y, tau)\n",
    "betas, zs = sampler.sample(10000)"
   ]
  },
  {
   "cell_type": "markdown",
   "metadata": {},
   "source": [
    "#### Marginalization"
   ]
  },
  {
   "cell_type": "code",
   "execution_count": 17,
   "metadata": {
    "scrolled": false
   },
   "outputs": [
    {
     "data": {
      "image/png": "[encoded data removed]",
      "text/plain": [
       "<Figure size 720x576 with 4 Axes>"
      ]
     },
     "metadata": {
      "needs_background": "light"
     },
     "output_type": "display_data"
    },
    {
     "data": {
      "application/javascript": [
       "\n",
       "            setTimeout(function() {\n",
       "                var nbb_cell_id = 17;\n",
       "                var nbb_unformatted_code = \"# Plot some marginals distributions\\nidxs = [5, 13]\\nbins = 50\\nfig, ax = plt.subplots(len(idxs), 2, figsize=(10, len(idxs) * 4))\\n\\nfor i, idx in enumerate(idxs):\\n    ax[i, 0].hist(betas[:, idx], bins, density=True)\\n    ax[i, 0].set_title(\\\"$\\\\\\\\beta_{%d}$\\\" % idx)\\n\\n    ax[i, 1].hist(zs[:, idx], bins, density=True)\\n    ax[i, 1].set_title(\\\"$z_{%d}$\\\" % idx)\\n\\n# plt.savefig(\\\"marginals.png\\\")\\nplt.show()\";\n",
       "                var nbb_formatted_code = \"# Plot some marginals distributions\\nidxs = [5, 13]\\nbins = 50\\nfig, ax = plt.subplots(len(idxs), 2, figsize=(10, len(idxs) * 4))\\n\\nfor i, idx in enumerate(idxs):\\n    ax[i, 0].hist(betas[:, idx], bins, density=True)\\n    ax[i, 0].set_title(\\\"$\\\\\\\\beta_{%d}$\\\" % idx)\\n\\n    ax[i, 1].hist(zs[:, idx], bins, density=True)\\n    ax[i, 1].set_title(\\\"$z_{%d}$\\\" % idx)\\n\\n# plt.savefig(\\\"marginals.png\\\")\\nplt.show()\";\n",
       "                var nbb_cells = Jupyter.notebook.get_cells();\n",
       "                for (var i = 0; i < nbb_cells.length; ++i) {\n",
       "                    if (nbb_cells[i].input_prompt_number == nbb_cell_id) {\n",
       "                        if (nbb_cells[i].get_text() == nbb_unformatted_code) {\n",
       "                             nbb_cells[i].set_text(nbb_formatted_code);\n",
       "                        }\n",
       "                        break;\n",
       "                    }\n",
       "                }\n",
       "            }, 500);\n",
       "            "
      ],
      "text/plain": [
       "<IPython.core.display.Javascript object>"
      ]
     },
     "metadata": {},
     "output_type": "display_data"
    }
   ],
   "source": [
    "# Plot some marginals distributions\n",
    "idxs = [5, 13]\n",
    "bins = 50\n",
    "fig, ax = plt.subplots(len(idxs), 2, figsize=(10, len(idxs) * 4))\n",
    "\n",
    "for i, idx in enumerate(idxs):\n",
    "    ax[i, 0].hist(betas[:, idx], bins, density=True)\n",
    "    ax[i, 0].set_title(\"$\\\\beta_{%d}$\" % idx)\n",
    "\n",
    "    ax[i, 1].hist(zs[:, idx], bins, density=True)\n",
    "    ax[i, 1].set_title(\"$z_{%d}$\" % idx)\n",
    "\n",
    "# plt.savefig(\"marginals.png\")\n",
    "plt.show()"
   ]
  },
  {
   "cell_type": "markdown",
   "metadata": {},
   "source": [
    "#### Accuracy"
   ]
  },
  {
   "cell_type": "code",
   "execution_count": 24,
   "metadata": {},
   "outputs": [
    {
     "name": "stdout",
     "output_type": "stream",
     "text": [
      "Training accuracy: 0.787\n"
     ]
    },
    {
     "data": {
      "application/javascript": [
       "\n",
       "            setTimeout(function() {\n",
       "                var nbb_cell_id = 24;\n",
       "                var nbb_unformatted_code = \"y_hat = sampler.predict(X).mean(1)\\ny_hat = np.where(y_hat > 0, 1, -1)\\n\\nprint(\\\"Training accuracy:\\\", (y_hat == y).mean())\";\n",
       "                var nbb_formatted_code = \"y_hat = sampler.predict(X).mean(1)\\ny_hat = np.where(y_hat > 0, 1, -1)\\n\\nprint(\\\"Training accuracy:\\\", (y_hat == y).mean())\";\n",
       "                var nbb_cells = Jupyter.notebook.get_cells();\n",
       "                for (var i = 0; i < nbb_cells.length; ++i) {\n",
       "                    if (nbb_cells[i].input_prompt_number == nbb_cell_id) {\n",
       "                        if (nbb_cells[i].get_text() == nbb_unformatted_code) {\n",
       "                             nbb_cells[i].set_text(nbb_formatted_code);\n",
       "                        }\n",
       "                        break;\n",
       "                    }\n",
       "                }\n",
       "            }, 500);\n",
       "            "
      ],
      "text/plain": [
       "<IPython.core.display.Javascript object>"
      ]
     },
     "metadata": {},
     "output_type": "display_data"
    }
   ],
   "source": [
    "y_hat = sampler.predict(X).mean(1)\n",
    "y_hat = np.where(y_hat > 0, 1, -1)\n",
    "\n",
    "print(\"Training accuracy:\", (y_hat == y).mean())"
   ]
  },
  {
   "cell_type": "markdown",
   "metadata": {},
   "source": [
    "## Mean-Field"
   ]
  },
  {
   "cell_type": "code",
   "execution_count": 4,
   "metadata": {},
   "outputs": [
    {
     "data": {
      "application/javascript": [
       "\n",
       "            setTimeout(function() {\n",
       "                var nbb_cell_id = 4;\n",
       "                var nbb_unformatted_code = \"# Load data\\nX, y = load_data()\\n\\n# Parameters\\ntau = 100.0\";\n",
       "                var nbb_formatted_code = \"# Load data\\nX, y = load_data()\\n\\n# Parameters\\ntau = 100.0\";\n",
       "                var nbb_cells = Jupyter.notebook.get_cells();\n",
       "                for (var i = 0; i < nbb_cells.length; ++i) {\n",
       "                    if (nbb_cells[i].input_prompt_number == nbb_cell_id) {\n",
       "                        if (nbb_cells[i].get_text() == nbb_unformatted_code) {\n",
       "                             nbb_cells[i].set_text(nbb_formatted_code);\n",
       "                        }\n",
       "                        break;\n",
       "                    }\n",
       "                }\n",
       "            }, 500);\n",
       "            "
      ],
      "text/plain": [
       "<IPython.core.display.Javascript object>"
      ]
     },
     "metadata": {},
     "output_type": "display_data"
    }
   ],
   "source": [
    "# Load data\n",
    "X, y = load_data()\n",
    "\n",
    "# Parameters\n",
    "tau = 100.0"
   ]
  },
  {
   "cell_type": "code",
   "execution_count": 30,
   "metadata": {},
   "outputs": [
    {
     "name": "stdout",
     "output_type": "stream",
     "text": [
      "CPU times: user 1.07 s, sys: 407 ms, total: 1.47 s\n",
      "Wall time: 588 ms\n"
     ]
    },
    {
     "data": {
      "application/javascript": [
       "\n",
       "            setTimeout(function() {\n",
       "                var nbb_cell_id = 30;\n",
       "                var nbb_unformatted_code = \"%%time\\nmf = MeanField(X, y, tau)\\nmf.train(250)\\nbetas, zs = mf.sample(10000)\";\n",
       "                var nbb_formatted_code = \"%%time\\nmf = MeanField(X, y, tau)\\nmf.train(250)\\nbetas, zs = mf.sample(10000)\";\n",
       "                var nbb_cells = Jupyter.notebook.get_cells();\n",
       "                for (var i = 0; i < nbb_cells.length; ++i) {\n",
       "                    if (nbb_cells[i].input_prompt_number == nbb_cell_id) {\n",
       "                        if (nbb_cells[i].get_text() == nbb_unformatted_code) {\n",
       "                             nbb_cells[i].set_text(nbb_formatted_code);\n",
       "                        }\n",
       "                        break;\n",
       "                    }\n",
       "                }\n",
       "            }, 500);\n",
       "            "
      ],
      "text/plain": [
       "<IPython.core.display.Javascript object>"
      ]
     },
     "metadata": {},
     "output_type": "display_data"
    }
   ],
   "source": [
    "%%time\n",
    "mf = MeanField(X, y, tau)\n",
    "mf.train(250)\n",
    "betas, zs = mf.sample(10000)"
   ]
  },
  {
   "cell_type": "code",
   "execution_count": 13,
   "metadata": {},
   "outputs": [
    {
     "data": {
      "image/png": "[encoded data removed]",
      "text/plain": [
       "<Figure size 864x288 with 2 Axes>"
      ]
     },
     "metadata": {
      "needs_background": "light"
     },
     "output_type": "display_data"
    },
    {
     "data": {
      "application/javascript": [
       "\n",
       "            setTimeout(function() {\n",
       "                var nbb_cell_id = 13;\n",
       "                var nbb_unformatted_code = \"# Plot training curves\\nbetas_norm = [np.linalg.norm(mf.beta_mean - b) for b in mf.betas[:-1]]\\nzs_norm = [np.linalg.norm(mf.z_mean - z) for z in mf.zs[:-1]]\\n\\nfig, ax = plt.subplots(1, 2, figsize=(12, 4))\\nax[0].plot(betas_norm, lw=2.0)\\nax[0].set_ylabel(\\\"$||\\\\\\\\beta_{t+1} - \\\\\\\\beta_{t}||$\\\")\\nax[1].plot(zs_norm, lw=2.0)\\nax[1].set_ylabel(\\\"$||z_{t+1} - z_{t}||$\\\")\\nfor i in range(2):\\n    ax[i].set_yscale(\\\"log\\\")\\n    ax[i].set_xlabel(\\\"iterations\\\")\\nplt.show()\";\n",
       "                var nbb_formatted_code = \"# Plot training curves\\nbetas_norm = [np.linalg.norm(mf.beta_mean - b) for b in mf.betas[:-1]]\\nzs_norm = [np.linalg.norm(mf.z_mean - z) for z in mf.zs[:-1]]\\n\\nfig, ax = plt.subplots(1, 2, figsize=(12, 4))\\nax[0].plot(betas_norm, lw=2.0)\\nax[0].set_ylabel(\\\"$||\\\\\\\\beta_{t+1} - \\\\\\\\beta_{t}||$\\\")\\nax[1].plot(zs_norm, lw=2.0)\\nax[1].set_ylabel(\\\"$||z_{t+1} - z_{t}||$\\\")\\nfor i in range(2):\\n    ax[i].set_yscale(\\\"log\\\")\\n    ax[i].set_xlabel(\\\"iterations\\\")\\nplt.show()\";\n",
       "                var nbb_cells = Jupyter.notebook.get_cells();\n",
       "                for (var i = 0; i < nbb_cells.length; ++i) {\n",
       "                    if (nbb_cells[i].input_prompt_number == nbb_cell_id) {\n",
       "                        if (nbb_cells[i].get_text() == nbb_unformatted_code) {\n",
       "                             nbb_cells[i].set_text(nbb_formatted_code);\n",
       "                        }\n",
       "                        break;\n",
       "                    }\n",
       "                }\n",
       "            }, 500);\n",
       "            "
      ],
      "text/plain": [
       "<IPython.core.display.Javascript object>"
      ]
     },
     "metadata": {},
     "output_type": "display_data"
    }
   ],
   "source": [
    "# Plot training curves\n",
    "betas_norm = [np.linalg.norm(mf.beta_mean - b) for b in mf.betas[:-1]]\n",
    "zs_norm = [np.linalg.norm(mf.z_mean - z) for z in mf.zs[:-1]]\n",
    "\n",
    "fig, ax = plt.subplots(1, 2, figsize=(12, 4))\n",
    "ax[0].plot(betas_norm, lw=2.0)\n",
    "ax[0].set_ylabel(\"$||\\\\beta_{t+1} - \\\\beta_{t}||$\")\n",
    "ax[1].plot(zs_norm, lw=2.0)\n",
    "ax[1].set_ylabel(\"$||z_{t+1} - z_{t}||$\")\n",
    "for i in range(2):\n",
    "    ax[i].set_yscale(\"log\")\n",
    "    ax[i].set_xlabel(\"iterations\")\n",
    "plt.show()"
   ]
  },
  {
   "cell_type": "markdown",
   "metadata": {},
   "source": [
    "#### Marginalization"
   ]
  },
  {
   "cell_type": "code",
   "execution_count": 9,
   "metadata": {},
   "outputs": [
    {
     "data": {
      "image/png": "[encoded data removed]",
      "text/plain": [
       "<Figure size 720x576 with 4 Axes>"
      ]
     },
     "metadata": {
      "needs_background": "light"
     },
     "output_type": "display_data"
    },
    {
     "data": {
      "application/javascript": [
       "\n",
       "            setTimeout(function() {\n",
       "                var nbb_cell_id = 9;\n",
       "                var nbb_unformatted_code = \"# Plot some marginals distributions\\nidxs = [5, 13]\\nbins = 50\\nfig, ax = plt.subplots(len(idxs), 2, figsize=(10, len(idxs) * 4))\\n\\nfor i, idx in enumerate(idxs):\\n    ax[i, 0].hist(betas[:, idx], bins, density=True)\\n    ax[i, 0].set_title(\\\"$\\\\\\\\beta_{%d}$\\\" % idx)\\n\\n    ax[i, 1].hist(zs[:, idx], bins, density=True)\\n    ax[i, 1].set_title(\\\"$z_{%d}$\\\" % idx)\\n\\nplt.savefig(\\\"marginalsmf.png\\\")\\nplt.show()\";\n",
       "                var nbb_formatted_code = \"# Plot some marginals distributions\\nidxs = [5, 13]\\nbins = 50\\nfig, ax = plt.subplots(len(idxs), 2, figsize=(10, len(idxs) * 4))\\n\\nfor i, idx in enumerate(idxs):\\n    ax[i, 0].hist(betas[:, idx], bins, density=True)\\n    ax[i, 0].set_title(\\\"$\\\\\\\\beta_{%d}$\\\" % idx)\\n\\n    ax[i, 1].hist(zs[:, idx], bins, density=True)\\n    ax[i, 1].set_title(\\\"$z_{%d}$\\\" % idx)\\n\\nplt.savefig(\\\"marginalsmf.png\\\")\\nplt.show()\";\n",
       "                var nbb_cells = Jupyter.notebook.get_cells();\n",
       "                for (var i = 0; i < nbb_cells.length; ++i) {\n",
       "                    if (nbb_cells[i].input_prompt_number == nbb_cell_id) {\n",
       "                        if (nbb_cells[i].get_text() == nbb_unformatted_code) {\n",
       "                             nbb_cells[i].set_text(nbb_formatted_code);\n",
       "                        }\n",
       "                        break;\n",
       "                    }\n",
       "                }\n",
       "            }, 500);\n",
       "            "
      ],
      "text/plain": [
       "<IPython.core.display.Javascript object>"
      ]
     },
     "metadata": {},
     "output_type": "display_data"
    }
   ],
   "source": [
    "# Plot some marginals distributions\n",
    "idxs = [5, 13]\n",
    "bins = 50\n",
    "fig, ax = plt.subplots(len(idxs), 2, figsize=(10, len(idxs) * 4))\n",
    "\n",
    "for i, idx in enumerate(idxs):\n",
    "    ax[i, 0].hist(betas[:, idx], bins, density=True)\n",
    "    ax[i, 0].set_title(\"$\\\\beta_{%d}$\" % idx)\n",
    "\n",
    "    ax[i, 1].hist(zs[:, idx], bins, density=True)\n",
    "    ax[i, 1].set_title(\"$z_{%d}$\" % idx)\n",
    "\n",
    "plt.show()"
   ]
  },
  {
   "cell_type": "markdown",
   "metadata": {},
   "source": [
    "#### Training accuracy"
   ]
  },
  {
   "cell_type": "code",
   "execution_count": 29,
   "metadata": {},
   "outputs": [
    {
     "name": "stdout",
     "output_type": "stream",
     "text": [
      "Training accuracy: 0.785\n"
     ]
    },
    {
     "data": {
      "application/javascript": [
       "\n",
       "            setTimeout(function() {\n",
       "                var nbb_cell_id = 29;\n",
       "                var nbb_unformatted_code = \"y_hat = mf.predict(X, n_sample=10000).mean(1)\\ny_hat = np.where(y_hat > 0, 1, -1)\\n\\nprint(\\\"Training accuracy:\\\", (y_hat == y).mean())\";\n",
       "                var nbb_formatted_code = \"y_hat = mf.predict(X, n_sample=10000).mean(1)\\ny_hat = np.where(y_hat > 0, 1, -1)\\n\\nprint(\\\"Training accuracy:\\\", (y_hat == y).mean())\";\n",
       "                var nbb_cells = Jupyter.notebook.get_cells();\n",
       "                for (var i = 0; i < nbb_cells.length; ++i) {\n",
       "                    if (nbb_cells[i].input_prompt_number == nbb_cell_id) {\n",
       "                        if (nbb_cells[i].get_text() == nbb_unformatted_code) {\n",
       "                             nbb_cells[i].set_text(nbb_formatted_code);\n",
       "                        }\n",
       "                        break;\n",
       "                    }\n",
       "                }\n",
       "            }, 500);\n",
       "            "
      ],
      "text/plain": [
       "<IPython.core.display.Javascript object>"
      ]
     },
     "metadata": {},
     "output_type": "display_data"
    }
   ],
   "source": [
    "y_hat = mf.predict(X, n_sample=10000).mean(1)\n",
    "y_hat = np.where(y_hat > 0, 1, -1)\n",
    "\n",
    "print(\"Training accuracy:\", (y_hat == y).mean())"
   ]
  }
 ],
 "metadata": {
  "kernelspec": {
   "display_name": "Python 3",
   "language": "python",
   "name": "python3"
  },
  "language_info": {
   "codemirror_mode": {
    "name": "ipython",
    "version": 3
   },
   "file_extension": ".py",
   "mimetype": "text/x-python",
   "name": "python",
   "nbconvert_exporter": "python",
   "pygments_lexer": "ipython3",
   "version": "3.6.8"
  }
 },
 "nbformat": 4,
 "nbformat_minor": 2
}
